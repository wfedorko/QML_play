{
 "cells": [
  {
   "cell_type": "code",
   "execution_count": 1,
   "metadata": {},
   "outputs": [],
   "source": [
    "import pennylane as qml\n",
    "import torch\n",
    "import numpy as np"
   ]
  },
  {
   "cell_type": "code",
   "execution_count": 2,
   "metadata": {},
   "outputs": [],
   "source": [
    "import time"
   ]
  },
  {
   "cell_type": "code",
   "execution_count": 3,
   "metadata": {},
   "outputs": [],
   "source": [
    "#qpu = qml.device('qiskit.ibmq', wires=2, backend='ibmq_essex',shots=100)\n",
    "#qpu = qml.device('qiskit.ibmq', wires=2, backend='ibmq_london',shots=100)\n",
    "#qpu = qml.device('qiskit.ibmq', wires=2, backend='ibmq_vigo',shots=100)\n",
    "#qpu = qml.device('strawberryfields.fock', wires=1, cutoff_dim=10)\n",
    "#qpu = qml.device('strawberryfields.gaussian', wires=1)\n",
    "qpu = qml.device('qiskit.aer', wires=2)"
   ]
  },
  {
   "cell_type": "code",
   "execution_count": null,
   "metadata": {},
   "outputs": [],
   "source": [
    "def statepreparation(x):\n",
    "    qml.Hadamard(wires=0)\n",
    "    qml.Hadamard(wires=1)\n",
    "    qml.RZ(x[0],wires=0)\n",
    "    qml.RZ(x[1],wires=0)\n",
    "    "
   ]
  },
  {
   "cell_type": "code",
   "execution_count": 37,
   "metadata": {},
   "outputs": [],
   "source": [
    "@qml.qnode(qpu,interface='torch')\n",
    "def circuit():\n",
    "    #qml.BasisState(np.asarray([0,0]),wires=[0,1])\n",
    "    qml.Hadamard(wires=0)\n",
    "    #qml.RY(np.pi/2,wires=0)\n",
    "    qml.CNOT(wires=[0,1])\n",
    "    qml.RX(np.pi/2,wires=0)\n",
    "    return qml.expval(qml.PauliZ(0))"
   ]
  },
  {
   "cell_type": "code",
   "execution_count": 38,
   "metadata": {},
   "outputs": [],
   "source": [
    "value=circuit()"
   ]
  },
  {
   "cell_type": "code",
   "execution_count": 39,
   "metadata": {},
   "outputs": [
    {
     "name": "stdout",
     "output_type": "stream",
     "text": [
      "tensor(0.0078, dtype=torch.float64)\n"
     ]
    }
   ],
   "source": [
    "print(value)"
   ]
  },
  {
   "cell_type": "code",
   "execution_count": null,
   "metadata": {},
   "outputs": [],
   "source": []
  }
 ],
 "metadata": {
  "kernelspec": {
   "display_name": "Python 3",
   "language": "python",
   "name": "python3"
  },
  "language_info": {
   "codemirror_mode": {
    "name": "ipython",
    "version": 3
   },
   "file_extension": ".py",
   "mimetype": "text/x-python",
   "name": "python",
   "nbconvert_exporter": "python",
   "pygments_lexer": "ipython3",
   "version": "3.6.9"
  }
 },
 "nbformat": 4,
 "nbformat_minor": 2
}
