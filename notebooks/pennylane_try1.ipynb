{
 "cells": [
  {
   "cell_type": "code",
   "execution_count": 1,
   "metadata": {},
   "outputs": [],
   "source": [
    "import pennylane as qml"
   ]
  },
  {
   "cell_type": "code",
   "execution_count": 2,
   "metadata": {},
   "outputs": [],
   "source": [
    "import torch\n",
    "import numpy as np"
   ]
  },
  {
   "cell_type": "code",
   "execution_count": 3,
   "metadata": {},
   "outputs": [],
   "source": [
    "qpu = qml.device('qiskit.ibmq', wires=2, backend='ibmq_london',shots=100)\n",
    "#qpu = qml.device('qiskit.ibmq', wires=2, backend='ibmq_vigo',shots=100)\n",
    "#qpu = qml.device('strawberryfields.fock', wires=2, cutoff_dim=10)\n",
    "#qpu = qml.device('strawberryfields.gaussian', wires=2)\n",
    "#qpu = qml.device('qiskit.aer', wires=2)"
   ]
  },
  {
   "cell_type": "code",
   "execution_count": 4,
   "metadata": {},
   "outputs": [
    {
     "data": {
      "text/plain": [
       "{'model': 'qubit',\n",
       " 'tensor_observables': True,\n",
       " 'backend': ['ibmq_qasm_simulator',\n",
       "  'ibmqx2',\n",
       "  'ibmq_16_melbourne',\n",
       "  'ibmq_vigo',\n",
       "  'ibmq_ourense',\n",
       "  'ibmq_london',\n",
       "  'ibmq_burlington',\n",
       "  'ibmq_essex']}"
      ]
     },
     "execution_count": 4,
     "metadata": {},
     "output_type": "execute_result"
    }
   ],
   "source": [
    "qpu.capabilities()"
   ]
  },
  {
   "cell_type": "code",
   "execution_count": 5,
   "metadata": {},
   "outputs": [],
   "source": [
    "phi=torch.tensor(0.0)"
   ]
  },
  {
   "cell_type": "code",
   "execution_count": 6,
   "metadata": {},
   "outputs": [
    {
     "data": {
      "text/plain": [
       "tensor(0.)"
      ]
     },
     "execution_count": 6,
     "metadata": {},
     "output_type": "execute_result"
    }
   ],
   "source": [
    "phi"
   ]
  },
  {
   "cell_type": "code",
   "execution_count": 7,
   "metadata": {},
   "outputs": [],
   "source": [
    "phi.requires_grad=True"
   ]
  },
  {
   "cell_type": "code",
   "execution_count": 8,
   "metadata": {},
   "outputs": [],
   "source": [
    "theta=torch.tensor(1e-5)"
   ]
  },
  {
   "cell_type": "code",
   "execution_count": 9,
   "metadata": {},
   "outputs": [],
   "source": [
    "theta.requires_grad=True"
   ]
  },
  {
   "cell_type": "code",
   "execution_count": 10,
   "metadata": {},
   "outputs": [],
   "source": [
    "target=-1"
   ]
  },
  {
   "cell_type": "code",
   "execution_count": 11,
   "metadata": {},
   "outputs": [],
   "source": [
    "@qml.qnode(qpu,interface='torch')\n",
    "def circuit(phi,theta):\n",
    "    #qml.BasisState(np.asarray([0,0]),wires=[0,1])\n",
    "    qml.RX(theta,wires=0)\n",
    "    qml.RZ(phi,wires=0)\n",
    "    return qml.expval(qml.PauliZ(0))\n",
    "\n",
    "@qml.qnode(qpu,interface='torch')\n",
    "def dummy_circ():\n",
    "    return qml.expval(qml.PauliZ(0))"
   ]
  },
  {
   "cell_type": "code",
   "execution_count": 12,
   "metadata": {},
   "outputs": [
    {
     "data": {
      "text/plain": [
       "tensor(1., dtype=torch.float64)"
      ]
     },
     "execution_count": 12,
     "metadata": {},
     "output_type": "execute_result"
    }
   ],
   "source": [
    "dummy_circ()"
   ]
  },
  {
   "cell_type": "code",
   "execution_count": 13,
   "metadata": {},
   "outputs": [],
   "source": [
    "def cost(phi,theta):\n",
    "    return torch.abs(circuit(phi,theta)-target)**2"
   ]
  },
  {
   "cell_type": "code",
   "execution_count": 14,
   "metadata": {},
   "outputs": [],
   "source": [
    "opt=torch.optim.Adam([phi,theta],lr=0.1)"
   ]
  },
  {
   "cell_type": "code",
   "execution_count": 15,
   "metadata": {},
   "outputs": [
    {
     "name": "stdout",
     "output_type": "stream",
     "text": [
      "theta 9.999999747378752e-06, phi 0.0\n"
     ]
    }
   ],
   "source": [
    "print ('theta {}, phi {}'.format(theta,phi))"
   ]
  },
  {
   "cell_type": "code",
   "execution_count": 16,
   "metadata": {
    "scrolled": false
   },
   "outputs": [
    {
     "data": {
      "text/plain": [
       "tensor(4., dtype=torch.float64, grad_fn=<PowBackward0>)"
      ]
     },
     "execution_count": 16,
     "metadata": {},
     "output_type": "execute_result"
    }
   ],
   "source": [
    "cost(phi,theta)"
   ]
  },
  {
   "cell_type": "code",
   "execution_count": 17,
   "metadata": {},
   "outputs": [
    {
     "name": "stdout",
     "output_type": "stream",
     "text": [
      "theta 9.999999747378752e-06, phi 0.0\n",
      "theta 0.18895819783210754, phi 0.07441366463899612\n",
      "theta 0.26771116256713867, phi 0.13193564116954803\n",
      "theta 0.35245102643966675, phi 0.12525813281536102\n",
      "theta 0.4421444237232208, phi 0.0892375260591507\n",
      "theta 0.5342389345169067, phi 0.029758136719465256\n",
      "theta 0.6292614936828613, phi 0.04183235391974449\n",
      "theta 0.7265954613685608, phi 0.06264626234769821\n",
      "theta 0.8257765173912048, phi 0.11436320841312408\n",
      "theta 0.9265491366386414, phi 0.1751563996076584\n",
      "theta 1.0286675691604614, phi 0.22574812173843384\n",
      "theta 1.131862759590149, phi 0.26733797788619995\n",
      "theta 1.235893964767456, phi 0.3223554193973541\n",
      "theta 1.340405821800232, phi 0.3912368416786194\n",
      "theta 1.4450665712356567, phi 0.4416094422340393\n",
      "theta 1.5499614477157593, phi 0.5007854700088501\n",
      "theta 1.6533586978912354, phi 0.539253830909729\n",
      "theta 1.7568316459655762, phi 0.5512616634368896\n",
      "theta 1.8598147630691528, phi 0.5504694581031799\n",
      "theta 1.9609941244125366, phi 0.5545299053192139\n",
      "theta 2.0612947940826416, phi 0.548952579498291\n",
      "theta 2.1579601764678955, phi 0.5481690764427185\n",
      "theta 2.2504496574401855, phi 0.5457549095153809\n",
      "theta 2.3394577503204346, phi 0.541924774646759\n",
      "theta 2.4246208667755127, phi 0.5414745211601257\n",
      "theta 2.504140853881836, phi 0.5377650260925293\n",
      "theta 2.5784854888916016, phi 0.5368918180465698\n",
      "theta 2.6483330726623535, phi 0.536578893661499\n",
      "theta 2.712815046310425, phi 0.5373623967170715\n",
      "theta 2.7728354930877686, phi 0.5402994155883789\n",
      "theta 2.8282127380371094, phi 0.5422247648239136\n",
      "theta 2.8797504901885986, phi 0.543978750705719\n",
      "theta 2.927288770675659, phi 0.5431749820709229\n",
      "theta 2.970808506011963, phi 0.5427020192146301\n",
      "theta 3.0106773376464844, phi 0.5418124198913574\n",
      "theta 3.0471692085266113, phi 0.5400076508522034\n",
      "theta 3.0807371139526367, phi 0.5383642911911011\n",
      "theta 3.1115562915802, phi 0.5371735692024231\n",
      "theta 3.1396546363830566, phi 0.5364329218864441\n",
      "theta 3.165123224258423, phi 0.5368000864982605\n",
      "theta 3.1883187294006348, phi 0.5370640158653259\n",
      "theta 3.2092742919921875, phi 0.5369493961334229\n",
      "theta 3.228093147277832, phi 0.5371679067611694\n",
      "theta 3.2448954582214355, phi 0.5366417169570923\n",
      "theta 3.2602455615997314, phi 0.5377745628356934\n",
      "theta 3.2739789485931396, phi 0.5382127165794373\n",
      "theta 3.2860307693481445, phi 0.5377140045166016\n",
      "theta 3.2968528270721436, phi 0.5381667017936707\n",
      "theta 3.3058462142944336, phi 0.5378919243812561\n",
      "theta 3.313995122909546, phi 0.5375266671180725\n",
      "theta 3.321077346801758, phi 0.5374668836593628\n",
      "theta 3.327101230621338, phi 0.5374125838279724\n",
      "theta 3.3325939178466797, phi 0.5387890338897705\n",
      "theta 3.337552547454834, phi 0.5403990149497986\n",
      "theta 3.341721296310425, phi 0.5429903268814087\n",
      "theta 3.3454344272613525, phi 0.5446109175682068\n",
      "theta 3.348475456237793, phi 0.5460823774337769\n",
      "theta 3.350935220718384, phi 0.54654860496521\n",
      "theta 3.352937936782837, phi 0.546763002872467\n",
      "theta 3.353877544403076, phi 0.5486419200897217\n",
      "theta 3.353999614715576, phi 0.5527231097221375\n",
      "theta 3.3533992767333984, phi 0.556426465511322\n",
      "theta 3.3522403240203857, phi 0.5590962767601013\n",
      "theta 3.3510053157806396, phi 0.5612574815750122\n",
      "theta 3.3496508598327637, phi 0.5634809136390686\n",
      "theta 3.348010301589966, phi 0.5684097409248352\n",
      "theta 3.3459203243255615, phi 0.5739469528198242\n",
      "theta 3.343306541442871, phi 0.5813851356506348\n",
      "theta 3.340453863143921, phi 0.5859165191650391\n",
      "theta 3.3376779556274414, phi 0.590025007724762\n",
      "theta 3.3349592685699463, phi 0.5941158533096313\n",
      "theta 3.332094669342041, phi 0.5971785187721252\n",
      "theta 3.32905650138855, phi 0.6014400124549866\n",
      "theta 3.325427293777466, phi 0.6030572652816772\n",
      "theta 3.3216536045074463, phi 0.6033932566642761\n",
      "theta 3.317960739135742, phi 0.6041715741157532\n",
      "theta 3.3143997192382812, phi 0.6028734445571899\n",
      "theta 3.3109776973724365, phi 0.6016973257064819\n",
      "theta 3.307335376739502, phi 0.600631833076477\n",
      "theta 3.3037779331207275, phi 0.5984992384910583\n",
      "theta 3.299915075302124, phi 0.5948547124862671\n",
      "theta 3.2954115867614746, phi 0.5910611152648926\n",
      "theta 3.291004180908203, phi 0.5873278975486755\n",
      "theta 3.286597490310669, phi 0.582899808883667\n",
      "theta 3.2818562984466553, phi 0.5780871510505676\n",
      "theta 3.2767908573150635, phi 0.5732749700546265\n",
      "theta 3.2718160152435303, phi 0.56800377368927\n",
      "theta 3.267073154449463, phi 0.5639979243278503\n",
      "theta 3.2626264095306396, phi 0.5613994598388672\n",
      "theta 3.258354902267456, phi 0.5590471625328064\n",
      "theta 3.2537457942962646, phi 0.5569178462028503\n",
      "theta 3.2492940425872803, phi 0.5571865439414978\n",
      "theta 3.2453184127807617, phi 0.5580605864524841\n",
      "theta 3.2415223121643066, phi 0.5594860315322876\n",
      "theta 3.2379603385925293, phi 0.5614138841629028\n",
      "theta 3.2345142364501953, phi 0.5635326504707336\n",
      "theta 3.2307496070861816, phi 0.5654498934745789\n",
      "theta 3.2272329330444336, phi 0.5680491328239441\n",
      "theta 3.223912477493286, phi 0.5696404576301575\n",
      "theta 3.221168279647827, phi 0.569333016872406\n",
      "theta 3.218841552734375, phi 0.5680670738220215\n",
      "theta 3.216538190841675, phi 0.5675837993621826\n",
      "theta 3.2136056423187256, phi 0.5661486983299255\n",
      "theta 3.2103796005249023, phi 0.5660764575004578\n",
      "theta 3.2071855068206787, phi 0.5648911595344543\n",
      "theta 3.2042388916015625, phi 0.5655072927474976\n",
      "theta 3.2016122341156006, phi 0.5669692754745483\n",
      "theta 3.1993231773376465, phi 0.5691438317298889\n",
      "theta 3.1974129676818848, phi 0.5705394148826599\n",
      "theta 3.1956074237823486, phi 0.5708835124969482\n",
      "theta 3.1938421726226807, phi 0.5722322463989258\n",
      "theta 3.19215726852417, phi 0.5741468667984009\n",
      "theta 3.190633535385132, phi 0.5755289793014526\n",
      "theta 3.1889872550964355, phi 0.5785320997238159\n",
      "theta 3.1869990825653076, phi 0.5788984298706055\n",
      "theta 3.1852314472198486, phi 0.5799373388290405\n",
      "theta 3.183431625366211, phi 0.5823575258255005\n",
      "theta 3.1818044185638428, phi 0.5842479467391968\n",
      "theta 3.180333375930786, phi 0.5845223665237427\n",
      "theta 3.1789393424987793, phi 0.584710419178009\n",
      "theta 3.1773557662963867, phi 0.583252489566803\n",
      "theta 3.1755993366241455, phi 0.5836301445960999\n",
      "theta 3.1738667488098145, phi 0.5839715003967285\n",
      "theta 3.1726648807525635, phi 0.5842800736427307\n",
      "theta 3.17179799079895, phi 0.5845589637756348\n",
      "theta 3.17116117477417, phi 0.5855501890182495\n",
      "theta 3.1706488132476807, phi 0.5883012413978577\n",
      "theta 3.1698896884918213, phi 0.5892969965934753\n",
      "theta 3.1690547466278076, phi 0.591942548751831\n",
      "theta 3.1684341430664062, phi 0.5947715640068054\n",
      "theta 3.1680662631988525, phi 0.5973281264305115\n",
      "theta 3.1676740646362305, phi 0.6018465757369995\n",
      "theta 3.1674938201904297, phi 0.6087785363197327\n",
      "theta 3.1671791076660156, phi 0.6132611632347107\n",
      "theta 3.166796922683716, phi 0.6150130033493042\n",
      "theta 3.1666481494903564, phi 0.6171725988388062\n",
      "theta 3.1661412715911865, phi 0.6184805631637573\n",
      "theta 3.1651875972747803, phi 0.6188873648643494\n",
      "theta 3.1643259525299072, phi 0.6184769868850708\n",
      "theta 3.1635475158691406, phi 0.6184967160224915\n",
      "theta 3.1629278659820557, phi 0.6162286996841431\n",
      "theta 3.162515163421631, phi 0.6157531142234802\n",
      "theta 3.1616320610046387, phi 0.6129553318023682\n",
      "theta 3.1606991291046143, phi 0.6106259822845459\n",
      "theta 3.160172939300537, phi 0.6099136471748352\n",
      "theta 3.1594982147216797, phi 0.6091371178627014\n",
      "theta 3.1588032245635986, phi 0.6084356904029846\n",
      "theta 3.157741069793701, phi 0.606998085975647\n",
      "theta 3.1566996574401855, phi 0.6048926115036011\n",
      "theta 3.155482769012451, phi 0.6040031909942627\n",
      "theta 3.1542391777038574, phi 0.6018454432487488\n",
      "theta 3.152907133102417, phi 0.6009840369224548\n",
      "theta 3.1522626876831055, phi 0.5989784598350525\n",
      "theta 3.1518807411193848, phi 0.594157338142395\n",
      "theta 3.151008367538452, phi 0.5898030996322632\n",
      "theta 3.1502203941345215, phi 0.5848374366760254\n",
      "theta 3.1494970321655273, phi 0.5805602669715881\n",
      "theta 3.1487905979156494, phi 0.5742017030715942\n",
      "theta 3.1490437984466553, phi 0.5705476999282837\n",
      "theta 3.1490538120269775, phi 0.5644568204879761\n",
      "theta 3.148632049560547, phi 0.5572763681411743\n",
      "theta 3.148512125015259, phi 0.549106776714325\n",
      "theta 3.1482315063476562, phi 0.5383501052856445\n",
      "theta 3.1480326652526855, phi 0.52736496925354\n",
      "theta 3.1475985050201416, phi 0.5159570574760437\n",
      "theta 3.1473159790039062, phi 0.5024587512016296\n",
      "theta 3.1466946601867676, phi 0.4913415014743805\n",
      "theta 3.14585542678833, phi 0.48044461011886597\n",
      "theta 3.145066976547241, phi 0.4731210172176361\n"
     ]
    },
    {
     "name": "stdout",
     "output_type": "stream",
     "text": [
      "theta 3.144355058670044, phi 0.4665085971355438\n",
      "theta 3.143872022628784, phi 0.4598158299922943\n",
      "theta 3.1434359550476074, phi 0.4537732005119324\n",
      "theta 3.1434528827667236, phi 0.44875404238700867\n",
      "theta 3.143468141555786, phi 0.44116073846817017\n",
      "theta 3.1436445713043213, phi 0.43459805846214294\n",
      "theta 3.1442434787750244, phi 0.4301413297653198\n",
      "theta 3.144721031188965, phi 0.42648592591285706\n",
      "theta 3.145960807800293, phi 0.42436742782592773\n",
      "theta 3.1466808319091797, phi 0.42245492339134216\n",
      "theta 3.147623062133789, phi 0.4202084541320801\n",
      "theta 3.1483778953552246, phi 0.4184040427207947\n",
      "theta 3.1495418548583984, phi 0.4176720082759857\n",
      "theta 3.1507272720336914, phi 0.41701120138168335\n",
      "theta 3.1519711017608643, phi 0.4157380759716034\n",
      "theta 3.1531388759613037, phi 0.4167000353336334\n",
      "theta 3.154510259628296, phi 0.4154512584209442\n",
      "theta 3.155670166015625, phi 0.41409656405448914\n",
      "theta 3.1570425033569336, phi 0.4136343002319336\n",
      "theta 3.1578519344329834, phi 0.40636250376701355\n",
      "theta 3.158504009246826, phi 0.3997988998889923\n",
      "theta 3.1596179008483887, phi 0.396939754486084\n",
      "theta 3.1602940559387207, phi 0.39359110593795776\n",
      "theta 3.1609835624694824, phi 0.39241746068000793\n",
      "theta 3.161288022994995, phi 0.38996800780296326\n",
      "theta 3.161297082901001, phi 0.3846605718135834\n",
      "theta 3.161445140838623, phi 0.37932687997817993\n",
      "theta 3.161665678024292, phi 0.3684505820274353\n",
      "theta 3.1614627838134766, phi 0.3600391447544098\n",
      "theta 3.1611454486846924, phi 0.3508840501308441\n"
     ]
    }
   ],
   "source": [
    "for i in range(200):\n",
    "    print ('theta {}, phi {}'.format(theta,phi))\n",
    "    opt.zero_grad()\n",
    "    loss=cost(phi,theta)\n",
    "    loss.backward()\n",
    "    opt.step()"
   ]
  },
  {
   "cell_type": "code",
   "execution_count": null,
   "metadata": {},
   "outputs": [],
   "source": []
  }
 ],
 "metadata": {
  "kernelspec": {
   "display_name": "Python 3",
   "language": "python",
   "name": "python3"
  },
  "language_info": {
   "codemirror_mode": {
    "name": "ipython",
    "version": 3
   },
   "file_extension": ".py",
   "mimetype": "text/x-python",
   "name": "python",
   "nbconvert_exporter": "python",
   "pygments_lexer": "ipython3",
   "version": "3.6.9"
  }
 },
 "nbformat": 4,
 "nbformat_minor": 2
}
