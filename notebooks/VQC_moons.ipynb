{
 "cells": [
  {
   "cell_type": "code",
   "execution_count": 1,
   "metadata": {},
   "outputs": [],
   "source": [
    "import os,sys\n",
    "currentdir = os.getcwd()\n",
    "parentdir = os.path.dirname(currentdir)\n",
    "sys.path.insert(0,parentdir)"
   ]
  },
  {
   "cell_type": "code",
   "execution_count": 2,
   "metadata": {},
   "outputs": [],
   "source": [
    "import pennylane as qml\n",
    "import torch\n",
    "import numpy as np"
   ]
  },
  {
   "cell_type": "code",
   "execution_count": 3,
   "metadata": {},
   "outputs": [],
   "source": [
    "import time"
   ]
  },
  {
   "cell_type": "code",
   "execution_count": 4,
   "metadata": {},
   "outputs": [],
   "source": [
    "from utils.data_handling import simple_np_ds"
   ]
  },
  {
   "cell_type": "code",
   "execution_count": 5,
   "metadata": {},
   "outputs": [],
   "source": [
    "dset=simple_np_ds(\"moons.npz\",val_split=0.1,test_split=0.1)"
   ]
  },
  {
   "cell_type": "code",
   "execution_count": 6,
   "metadata": {},
   "outputs": [
    {
     "data": {
      "text/plain": [
       "1000"
      ]
     },
     "execution_count": 6,
     "metadata": {},
     "output_type": "execute_result"
    }
   ],
   "source": [
    "len(dset)"
   ]
  },
  {
   "cell_type": "code",
   "execution_count": 7,
   "metadata": {},
   "outputs": [],
   "source": [
    "from torch.utils.data import DataLoader\n",
    "from torch.utils.data.sampler import SubsetRandomSampler"
   ]
  },
  {
   "cell_type": "code",
   "execution_count": 8,
   "metadata": {},
   "outputs": [],
   "source": [
    "train_loader=DataLoader(dset,batch_size=4,shuffle=False,sampler=SubsetRandomSampler(dset.train_indices),num_workers=4)\n",
    "val_loader=DataLoader(dset,batch_size=1,shuffle=False,sampler=SubsetRandomSampler(dset.val_indices),num_workers=4)\n",
    "test_loader=DataLoader(dset,batch_size=1,shuffle=False,sampler=SubsetRandomSampler(dset.test_indices),num_workers=4)"
   ]
  },
  {
   "cell_type": "code",
   "execution_count": 9,
   "metadata": {},
   "outputs": [],
   "source": [
    "\n",
    "def loop_over_set(loader,loop_limit=3):\n",
    "\n",
    "    # Let's measure time that takes in each loop\n",
    "    trecord = np.zeros([loop_limit],dtype=np.float32)\n",
    "    t = time.time()\n",
    "    for iteration, batch in enumerate(loader):\n",
    "\n",
    "        data,labels = batch\n",
    "\n",
    "        # Print out some content info\n",
    "        print('Iteration',iteration,'... time:',time.time()-t,'[s]')\n",
    "        print('data: {} labels: {}'.format(data,labels))\n",
    "\n",
    "        trecord[iteration] = time.time() - t\n",
    "        t = time.time()\n",
    "\n",
    "        # break when reaching the loop limit\n",
    "        if (iteration+1) == loop_limit:\n",
    "            break\n",
    "    return trecord"
   ]
  },
  {
   "cell_type": "code",
   "execution_count": 10,
   "metadata": {},
   "outputs": [
    {
     "name": "stdout",
     "output_type": "stream",
     "text": [
      "Iteration 0 ... time: 0.059876441955566406 [s]\n",
      "data: tensor([[-0.6231,  0.1443],\n",
      "        [-0.9353, -0.0446],\n",
      "        [ 1.5164, -0.3222],\n",
      "        [ 0.0951, -0.2689]]) labels: tensor([0, 0, 1, 1])\n",
      "Iteration 1 ... time: 0.0033025741577148438 [s]\n",
      "data: tensor([[ 0.2689, -0.1982],\n",
      "        [ 0.0521,  1.0190],\n",
      "        [-0.4111,  1.0237],\n",
      "        [ 1.1878, -0.4956]]) labels: tensor([1, 0, 0, 1])\n",
      "Iteration 2 ... time: 0.002005338668823242 [s]\n",
      "data: tensor([[-0.3922,  1.0957],\n",
      "        [ 0.8930, -0.5334],\n",
      "        [ 1.6755, -0.3622],\n",
      "        [ 0.5163,  0.6125]]) labels: tensor([0, 1, 1, 0])\n",
      "Iteration 3 ... time: 0.00013971328735351562 [s]\n",
      "data: tensor([[-0.8767,  0.6248],\n",
      "        [-1.0204,  0.0132],\n",
      "        [ 0.3113,  0.6965],\n",
      "        [ 1.3908, -0.4691]]) labels: tensor([0, 0, 1, 1])\n",
      "Iteration 4 ... time: 0.00016164779663085938 [s]\n",
      "data: tensor([[-1.1643,  0.3249],\n",
      "        [-0.2860,  0.9257],\n",
      "        [-0.0817,  0.2431],\n",
      "        [ 0.9261, -0.4002]]) labels: tensor([0, 0, 1, 1])\n",
      "Iteration 5 ... time: 0.0015249252319335938 [s]\n",
      "data: tensor([[ 0.8264,  0.1614],\n",
      "        [ 1.5333, -0.1862],\n",
      "        [ 0.8659, -0.4938],\n",
      "        [ 1.8345, -0.1188]]) labels: tensor([0, 1, 1, 1])\n",
      "Iteration 6 ... time: 0.0015285015106201172 [s]\n",
      "data: tensor([[ 0.2659, -0.1820],\n",
      "        [-0.1193,  0.1158],\n",
      "        [ 0.4045,  1.0692],\n",
      "        [ 1.7127, -0.1859]]) labels: tensor([1, 1, 0, 1])\n",
      "Iteration 7 ... time: 0.00013971328735351562 [s]\n",
      "data: tensor([[ 0.8775,  0.2250],\n",
      "        [-0.2581,  0.9810],\n",
      "        [ 0.7152, -0.5319],\n",
      "        [ 1.3343, -0.0874]]) labels: tensor([0, 0, 1, 1])\n",
      "Iteration 8 ... time: 0.0015673637390136719 [s]\n",
      "data: tensor([[ 1.7538, -0.0551],\n",
      "        [ 0.2057,  0.4318],\n",
      "        [ 0.9710, -0.4791],\n",
      "        [ 1.4293, -0.5596]]) labels: tensor([1, 1, 1, 1])\n",
      "Iteration 9 ... time: 0.0014309883117675781 [s]\n",
      "data: tensor([[ 1.3204, -0.4458],\n",
      "        [-0.2173,  0.9671],\n",
      "        [ 0.6568, -0.4666],\n",
      "        [ 0.7167, -0.1087]]) labels: tensor([1, 0, 1, 1])\n"
     ]
    },
    {
     "data": {
      "text/plain": [
       "array([0.06490684, 0.00773978, 0.00395584, 0.00213885, 0.00203657,\n",
       "       0.00333452, 0.00329947, 0.00196052, 0.00337625, 0.00333595],\n",
       "      dtype=float32)"
      ]
     },
     "execution_count": 10,
     "metadata": {},
     "output_type": "execute_result"
    }
   ],
   "source": [
    "loop_over_set(train_loader,10)"
   ]
  },
  {
   "cell_type": "code",
   "execution_count": 11,
   "metadata": {},
   "outputs": [],
   "source": [
    "#qpu = qml.device('qiskit.ibmq', wires=2, backend='ibmq_burlington',shots=100)\n",
    "#qpu = qml.device('qiskit.ibmq', wires=2, backend='ibmq_essex',shots=100)\n",
    "#qpu = qml.device('qiskit.ibmq', wires=2, backend='ibmq_london',shots=100)\n",
    "#qpu = qml.device('qiskit.ibmq', wires=2, backend='ibmq_vigo',shots=100)\n",
    "#qpu = qml.device('strawberryfields.fock', wires=1, cutoff_dim=10)\n",
    "#qpu = qml.device('strawberryfields.gaussian', wires=1)\n",
    "qpu = qml.device('qiskit.aer', wires=2)\n",
    "#qpu=qml.device('default.qubit', wires=2)"
   ]
  },
  {
   "cell_type": "code",
   "execution_count": 12,
   "metadata": {},
   "outputs": [],
   "source": [
    "def H_phase(x):\n",
    "    for i in range(x.size): \n",
    "        qml.Hadamard(wires=i)\n",
    "        qml.RZ(x[i],wires=i)\n",
    "    "
   ]
  },
  {
   "cell_type": "code",
   "execution_count": 13,
   "metadata": {},
   "outputs": [],
   "source": [
    "def entangle_rotate(x):\n",
    "    for i in range(x.size): \n",
    "        i_next=(i+1)%(x.size)\n",
    "        #prevent reverse cycle for two qbit system\n",
    "        if i==1 and i_next==0:\n",
    "            #print('state prep: preventing trivial reverse cycle for a 2 qbit circuit')\n",
    "            break\n",
    "            \n",
    "        phi=(np.pi-x[i])*(np.pi-x[i_next])\n",
    "        #print('entangling {} and {} with phi rotation {}'.format(i,i_next,phi))\n",
    "        qml.CNOT(wires=[i,i_next])\n",
    "        qml.RZ(phi,wires=i_next)\n",
    "        qml.CNOT(wires=[i,i_next])\n",
    "\n"
   ]
  },
  {
   "cell_type": "code",
   "execution_count": 14,
   "metadata": {},
   "outputs": [],
   "source": [
    "def ryrz(params):\n",
    "    n_wire=params.size//2\n",
    "    for i_wire in range(n_wire):\n",
    "        i_theta=i_wire*2\n",
    "        i_phi=i_theta+1\n",
    "        qml.RY(params[i_theta],wires=i_wire)\n",
    "        qml.RZ(params[i_phi],wires=i_wire) "
   ]
  },
  {
   "cell_type": "code",
   "execution_count": 15,
   "metadata": {},
   "outputs": [],
   "source": [
    "def cycle_ent(n_wires):\n",
    "    for i in range(n_wires): \n",
    "        i_next=(i+1)%(n_wires)\n",
    "        if i==1 and i_next==0:\n",
    "            #print('classifier: preventing trivial reverse cycle for a 2 qbit circuit')\n",
    "            break\n",
    "        #print('entangling {} and {}'.format(i,i_next))\n",
    "        qml.CNOT(wires=[i,i_next])"
   ]
  },
  {
   "cell_type": "code",
   "execution_count": 16,
   "metadata": {},
   "outputs": [],
   "source": [
    "def make_layers(params,depth,n_wires):\n",
    "    #print('params size {} and xcheck {}'.format(params.size,((depth+1)*n_wires*2)))\n",
    "    assert params.size==((depth+1)*n_wires*2)\n",
    "    ryrz(params[:2*n_wires])\n",
    "    for i_layer in range(depth):\n",
    "        i_p_first=(i_layer+1)*2*n_wires\n",
    "        i_p_last=(i_layer+2)*2*n_wires #slice indexing, so one past\n",
    "        cycle_ent(n_wires)\n",
    "        ryrz(params[i_p_first:i_p_last])\n",
    "    "
   ]
  },
  {
   "cell_type": "code",
   "execution_count": 17,
   "metadata": {},
   "outputs": [],
   "source": [
    "@qml.qnode(qpu,interface='torch')\n",
    "def circuit(params,inputs=None):\n",
    "    #print(inputs)\n",
    "    #qml.BasisState(np.asarray([0,0]),wires=[0,1])\n",
    "    H_phase(inputs)\n",
    "    entangle_rotate(inputs)\n",
    "    make_layers(params,3,2)\n",
    "    return [qml.expval(qml.PauliZ(0)),qml.expval(qml.PauliZ(1))]"
   ]
  },
  {
   "cell_type": "code",
   "execution_count": 18,
   "metadata": {},
   "outputs": [],
   "source": [
    "from torch.nn.parameter import Parameter"
   ]
  },
  {
   "cell_type": "code",
   "execution_count": 19,
   "metadata": {},
   "outputs": [],
   "source": [
    "import torch.nn as nn"
   ]
  },
  {
   "cell_type": "code",
   "execution_count": 20,
   "metadata": {},
   "outputs": [],
   "source": [
    "class QCircuitNet(torch.nn.Module):\n",
    "    def __init__(self):\n",
    "        super(QCircuitNet, self).__init__()\n",
    "        self.params=Parameter(torch.rand(16,dtype=torch.float32))\n",
    "        self.fc1 = nn.Linear(2, 2)\n",
    "        \n",
    "    def forward(self,args):\n",
    "        #call circuit on each example; build results tensor succesively\n",
    "        #this seems very pedestrian but idk if there is a better way\n",
    "        #print('args: {}'.format(args))\n",
    "        exp_vals_list=[]\n",
    "        for i_eval in range(args.size()[0]):\n",
    "            exp_vals_list.append(circuit(self.params,inputs=args[i_eval]).float())\n",
    "                                 \n",
    "        exp_vals=torch.stack(exp_vals_list,dim=0)\n",
    "        #print('exp_vals: {}'.format(exp_vals))\n",
    "        return self.fc1(exp_vals)"
   ]
  },
  {
   "cell_type": "code",
   "execution_count": 21,
   "metadata": {},
   "outputs": [],
   "source": [
    "model=QCircuitNet()"
   ]
  },
  {
   "cell_type": "code",
   "execution_count": 22,
   "metadata": {},
   "outputs": [
    {
     "name": "stdout",
     "output_type": "stream",
     "text": [
      "('params', Parameter containing:\n",
      "tensor([0.8494, 0.7254, 0.5771, 0.4051, 0.1903, 0.5712, 0.2751, 0.5391, 0.2247,\n",
      "        0.8397, 0.3724, 0.7454, 0.3517, 0.3427, 0.5570, 0.2527],\n",
      "       requires_grad=True))\n",
      "('fc1.weight', Parameter containing:\n",
      "tensor([[ 0.6669, -0.2146],\n",
      "        [-0.3466,  0.2362]], requires_grad=True))\n",
      "('fc1.bias', Parameter containing:\n",
      "tensor([-0.1708,  0.1919], requires_grad=True))\n"
     ]
    }
   ],
   "source": [
    "for p in model.named_parameters():\n",
    "    print(p)"
   ]
  },
  {
   "cell_type": "code",
   "execution_count": 23,
   "metadata": {},
   "outputs": [],
   "source": [
    "loss = nn.CrossEntropyLoss()"
   ]
  },
  {
   "cell_type": "code",
   "execution_count": 24,
   "metadata": {},
   "outputs": [],
   "source": [
    "ti=iter(train_loader)"
   ]
  },
  {
   "cell_type": "code",
   "execution_count": 25,
   "metadata": {},
   "outputs": [],
   "source": [
    "data, labels =ti.next()"
   ]
  },
  {
   "cell_type": "code",
   "execution_count": 26,
   "metadata": {},
   "outputs": [
    {
     "data": {
      "text/plain": [
       "(tensor([[ 1.3294, -0.3476],\n",
       "         [ 0.1064, -0.0518],\n",
       "         [ 0.7542,  0.8224],\n",
       "         [ 0.3513, -0.5336]]), tensor([1, 1, 0, 1]))"
      ]
     },
     "execution_count": 26,
     "metadata": {},
     "output_type": "execute_result"
    }
   ],
   "source": [
    "data, labels"
   ]
  },
  {
   "cell_type": "code",
   "execution_count": 27,
   "metadata": {},
   "outputs": [
    {
     "data": {
      "text/plain": [
       "Parameter containing:\n",
       "tensor([0.8494, 0.7254, 0.5771, 0.4051, 0.1903, 0.5712, 0.2751, 0.5391, 0.2247,\n",
       "        0.8397, 0.3724, 0.7454, 0.3517, 0.3427, 0.5570, 0.2527],\n",
       "       requires_grad=True)"
      ]
     },
     "execution_count": 27,
     "metadata": {},
     "output_type": "execute_result"
    }
   ],
   "source": [
    "model.params"
   ]
  },
  {
   "cell_type": "code",
   "execution_count": 29,
   "metadata": {},
   "outputs": [
    {
     "data": {
      "text/plain": [
       "tensor([ 1.3294, -0.3476])"
      ]
     },
     "execution_count": 29,
     "metadata": {},
     "output_type": "execute_result"
    }
   ],
   "source": [
    "data[0]"
   ]
  },
  {
   "cell_type": "code",
   "execution_count": 32,
   "metadata": {},
   "outputs": [
    {
     "name": "stdout",
     "output_type": "stream",
     "text": [
      "tensor([ 0.2227, -0.3457], dtype=torch.float64, grad_fn=<_TorchQNodeBackward>)\n",
      "tensor([0.5625, 0.3477], dtype=torch.float64, grad_fn=<_TorchQNodeBackward>)\n",
      "tensor([-0.5664, -0.0273], dtype=torch.float64, grad_fn=<_TorchQNodeBackward>)\n",
      "tensor([0.4453, 0.3867], dtype=torch.float64, grad_fn=<_TorchQNodeBackward>)\n"
     ]
    }
   ],
   "source": [
    "print(circuit(model.params,inputs=data[0]))\n",
    "print(circuit(model.params,inputs=data[1]))\n",
    "print(circuit(model.params,inputs=data[2]))\n",
    "print(circuit(model.params,inputs=data[3]))"
   ]
  },
  {
   "cell_type": "code",
   "execution_count": 31,
   "metadata": {},
   "outputs": [
    {
     "name": "stdout",
     "output_type": "stream",
     "text": [
      "args: tensor([[ 1.3294, -0.3476],\n",
      "        [ 0.1064, -0.0518],\n",
      "        [ 0.7542,  0.8224],\n",
      "        [ 0.3513, -0.5336]])\n",
      "exp_vals: tensor([[ 0.2168, -0.3359],\n",
      "        [ 0.6094,  0.3965],\n",
      "        [-0.4844, -0.0840],\n",
      "        [ 0.4316,  0.3750]], grad_fn=<StackBackward>)\n"
     ]
    }
   ],
   "source": [
    "resbatch=model(data)"
   ]
  },
  {
   "cell_type": "code",
   "execution_count": null,
   "metadata": {},
   "outputs": [],
   "source": []
  }
 ],
 "metadata": {
  "kernelspec": {
   "display_name": "Python 3",
   "language": "python",
   "name": "python3"
  },
  "language_info": {
   "codemirror_mode": {
    "name": "ipython",
    "version": 3
   },
   "file_extension": ".py",
   "mimetype": "text/x-python",
   "name": "python",
   "nbconvert_exporter": "python",
   "pygments_lexer": "ipython3",
   "version": "3.6.9"
  }
 },
 "nbformat": 4,
 "nbformat_minor": 2
}
